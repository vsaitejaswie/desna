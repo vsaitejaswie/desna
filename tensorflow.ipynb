{
  "nbformat": 4,
  "nbformat_minor": 0,
  "metadata": {
    "colab": {
      "name": "tensorflow.ipynb",
      "version": "0.3.2",
      "provenance": [],
      "include_colab_link": true
    },
    "kernelspec": {
      "name": "python3",
      "display_name": "Python 3"
    },
    "accelerator": "TPU"
  },
  "cells": [
    {
      "cell_type": "markdown",
      "metadata": {
        "id": "view-in-github",
        "colab_type": "text"
      },
      "source": [
        "<a href=\"https://colab.research.google.com/github/vsaitejaswie/desna/blob/master/tensorflow.ipynb\" target=\"_parent\"><img src=\"https://colab.research.google.com/assets/colab-badge.svg\" alt=\"Open In Colab\"/></a>"
      ]
    },
    {
      "metadata": {
        "id": "pmMiPLGEflMj",
        "colab_type": "code",
        "outputId": "4dcc57d9-f336-4f61-87c7-e2e1c8330863",
        "colab": {
          "base_uri": "https://localhost:8080/",
          "height": 1414
        }
      },
      "cell_type": "code",
      "source": [
        "!pip install tensorflow==1.10.0\n",
        "!pip install tensorboard==1.10.0\n",
        "!pip install tensorflow_hub==0.1.1\n",
        "\n",
        "import pandas as pd\n",
        "\n",
        "data = pd.read_csv('Consumer_Complaints2.csv', engine = 'python', encoding='utf-8', error_bad_lines=False)\n",
        "#df.head()\n",
        "data = data[pd.notnull(data['Consumer complaint narrative'])]\n",
        "col = ['Product', 'Consumer complaint narrative']\n",
        "data = data[col]\n",
        "data.columns = ['product', 'consumer_complaint_narrative']\n",
        "data.head()"
      ],
      "execution_count": 1,
      "outputs": [
        {
          "output_type": "stream",
          "text": [
            "Collecting tensorflow==1.10.0\n",
            "\u001b[?25l  Downloading https://files.pythonhosted.org/packages/ee/e6/a6d371306c23c2b01cd2cb38909673d17ddd388d9e4b3c0f6602bfd972c8/tensorflow-1.10.0-cp36-cp36m-manylinux1_x86_64.whl (58.4MB)\n",
            "\u001b[K    100% |████████████████████████████████| 58.4MB 631kB/s \n",
            "\u001b[?25hRequirement already satisfied: protobuf>=3.6.0 in /usr/local/lib/python3.6/dist-packages (from tensorflow==1.10.0) (3.7.0)\n",
            "Requirement already satisfied: absl-py>=0.1.6 in /usr/local/lib/python3.6/dist-packages (from tensorflow==1.10.0) (0.7.0)\n",
            "Requirement already satisfied: termcolor>=1.1.0 in /usr/local/lib/python3.6/dist-packages (from tensorflow==1.10.0) (1.1.0)\n",
            "Requirement already satisfied: grpcio>=1.8.6 in /usr/local/lib/python3.6/dist-packages (from tensorflow==1.10.0) (1.15.0)\n",
            "Collecting setuptools<=39.1.0 (from tensorflow==1.10.0)\n",
            "\u001b[?25l  Downloading https://files.pythonhosted.org/packages/8c/10/79282747f9169f21c053c562a0baa21815a8c7879be97abd930dbcf862e8/setuptools-39.1.0-py2.py3-none-any.whl (566kB)\n",
            "\u001b[K    100% |████████████████████████████████| 573kB 16.5MB/s \n",
            "\u001b[?25hCollecting numpy<=1.14.5,>=1.13.3 (from tensorflow==1.10.0)\n",
            "\u001b[?25l  Downloading https://files.pythonhosted.org/packages/68/1e/116ad560de97694e2d0c1843a7a0075cc9f49e922454d32f49a80eb6f1f2/numpy-1.14.5-cp36-cp36m-manylinux1_x86_64.whl (12.2MB)\n",
            "\u001b[K    100% |████████████████████████████████| 12.2MB 4.0MB/s \n",
            "\u001b[?25hRequirement already satisfied: astor>=0.6.0 in /usr/local/lib/python3.6/dist-packages (from tensorflow==1.10.0) (0.7.1)\n",
            "Requirement already satisfied: six>=1.10.0 in /usr/local/lib/python3.6/dist-packages (from tensorflow==1.10.0) (1.11.0)\n",
            "Requirement already satisfied: gast>=0.2.0 in /usr/local/lib/python3.6/dist-packages (from tensorflow==1.10.0) (0.2.2)\n",
            "Requirement already satisfied: wheel>=0.26 in /usr/local/lib/python3.6/dist-packages (from tensorflow==1.10.0) (0.33.1)\n",
            "Collecting tensorboard<1.11.0,>=1.10.0 (from tensorflow==1.10.0)\n",
            "\u001b[?25l  Downloading https://files.pythonhosted.org/packages/c6/17/ecd918a004f297955c30b4fffbea100b1606c225dbf0443264012773c3ff/tensorboard-1.10.0-py3-none-any.whl (3.3MB)\n",
            "\u001b[K    100% |████████████████████████████████| 3.3MB 8.1MB/s \n",
            "\u001b[?25hRequirement already satisfied: werkzeug>=0.11.10 in /usr/local/lib/python3.6/dist-packages (from tensorboard<1.11.0,>=1.10.0->tensorflow==1.10.0) (0.14.1)\n",
            "Requirement already satisfied: markdown>=2.6.8 in /usr/local/lib/python3.6/dist-packages (from tensorboard<1.11.0,>=1.10.0->tensorflow==1.10.0) (3.0.1)\n",
            "\u001b[31mtorchvision 0.2.2.post2 has requirement pillow>=4.1.1, but you'll have pillow 4.0.0 which is incompatible.\u001b[0m\n",
            "\u001b[31mthinc 6.12.1 has requirement wrapt<1.11.0,>=1.10.0, but you'll have wrapt 1.11.1 which is incompatible.\u001b[0m\n",
            "\u001b[31mspacy 2.0.18 has requirement numpy>=1.15.0, but you'll have numpy 1.14.5 which is incompatible.\u001b[0m\n",
            "\u001b[31mpymc3 3.6 has requirement joblib<0.13.0, but you'll have joblib 0.13.2 which is incompatible.\u001b[0m\n",
            "\u001b[31mmagenta 0.3.19 has requirement tensorflow>=1.12.0, but you'll have tensorflow 1.10.0 which is incompatible.\u001b[0m\n",
            "\u001b[31mimgaug 0.2.8 has requirement numpy>=1.15.0, but you'll have numpy 1.14.5 which is incompatible.\u001b[0m\n",
            "\u001b[31mfeaturetools 0.4.1 has requirement pandas>=0.23.0, but you'll have pandas 0.22.0 which is incompatible.\u001b[0m\n",
            "\u001b[31mfastai 1.0.46 has requirement numpy>=1.15, but you'll have numpy 1.14.5 which is incompatible.\u001b[0m\n",
            "\u001b[31malbumentations 0.1.12 has requirement imgaug<0.2.7,>=0.2.5, but you'll have imgaug 0.2.8 which is incompatible.\u001b[0m\n",
            "Installing collected packages: setuptools, numpy, tensorboard, tensorflow\n",
            "  Found existing installation: setuptools 40.8.0\n",
            "    Uninstalling setuptools-40.8.0:\n",
            "      Successfully uninstalled setuptools-40.8.0\n",
            "  Found existing installation: numpy 1.14.6\n",
            "    Uninstalling numpy-1.14.6:\n",
            "      Successfully uninstalled numpy-1.14.6\n",
            "  Found existing installation: tensorboard 1.13.0\n",
            "    Uninstalling tensorboard-1.13.0:\n",
            "      Successfully uninstalled tensorboard-1.13.0\n",
            "  Found existing installation: tensorflow 1.13.1\n",
            "    Uninstalling tensorflow-1.13.1:\n",
            "      Successfully uninstalled tensorflow-1.13.1\n",
            "Successfully installed numpy-1.14.5 setuptools-39.1.0 tensorboard-1.10.0 tensorflow-1.10.0\n"
          ],
          "name": "stdout"
        },
        {
          "output_type": "display_data",
          "data": {
            "application/vnd.colab-display-data+json": {
              "pip_warning": {
                "packages": [
                  "numpy",
                  "pkg_resources"
                ]
              }
            }
          },
          "metadata": {
            "tags": []
          }
        },
        {
          "output_type": "stream",
          "text": [
            "Requirement already satisfied: tensorboard==1.10.0 in /usr/local/lib/python3.6/dist-packages (1.10.0)\n",
            "Requirement already satisfied: markdown>=2.6.8 in /usr/local/lib/python3.6/dist-packages (from tensorboard==1.10.0) (3.0.1)\n",
            "Requirement already satisfied: wheel>=0.26; python_version >= \"3\" in /usr/local/lib/python3.6/dist-packages (from tensorboard==1.10.0) (0.33.1)\n",
            "Requirement already satisfied: werkzeug>=0.11.10 in /usr/local/lib/python3.6/dist-packages (from tensorboard==1.10.0) (0.14.1)\n",
            "Requirement already satisfied: six>=1.10.0 in /usr/local/lib/python3.6/dist-packages (from tensorboard==1.10.0) (1.11.0)\n",
            "Requirement already satisfied: protobuf>=3.4.0 in /usr/local/lib/python3.6/dist-packages (from tensorboard==1.10.0) (3.7.0)\n",
            "Requirement already satisfied: numpy>=1.12.0 in /usr/local/lib/python3.6/dist-packages (from tensorboard==1.10.0) (1.14.5)\n",
            "Requirement already satisfied: setuptools in /usr/local/lib/python3.6/dist-packages (from protobuf>=3.4.0->tensorboard==1.10.0) (39.1.0)\n",
            "Collecting tensorflow_hub==0.1.1\n",
            "\u001b[?25l  Downloading https://files.pythonhosted.org/packages/5f/22/64f246ef80e64b1a13b2f463cefa44f397a51c49a303294f5f3d04ac39ac/tensorflow_hub-0.1.1-py2.py3-none-any.whl (52kB)\n",
            "\u001b[K    100% |████████████████████████████████| 61kB 3.0MB/s \n",
            "\u001b[?25hRequirement already satisfied: six>=1.10.0 in /usr/local/lib/python3.6/dist-packages (from tensorflow_hub==0.1.1) (1.11.0)\n",
            "Requirement already satisfied: protobuf>=3.4.0 in /usr/local/lib/python3.6/dist-packages (from tensorflow_hub==0.1.1) (3.7.0)\n",
            "Requirement already satisfied: numpy>=1.12.0 in /usr/local/lib/python3.6/dist-packages (from tensorflow_hub==0.1.1) (1.14.5)\n",
            "Requirement already satisfied: setuptools in /usr/local/lib/python3.6/dist-packages (from protobuf>=3.4.0->tensorflow_hub==0.1.1) (39.1.0)\n",
            "Installing collected packages: tensorflow-hub\n",
            "  Found existing installation: tensorflow-hub 0.2.0\n",
            "    Uninstalling tensorflow-hub-0.2.0:\n",
            "      Successfully uninstalled tensorflow-hub-0.2.0\n",
            "Successfully installed tensorflow-hub-0.1.1\n"
          ],
          "name": "stdout"
        },
        {
          "output_type": "execute_result",
          "data": {
            "text/html": [
              "<div>\n",
              "<style scoped>\n",
              "    .dataframe tbody tr th:only-of-type {\n",
              "        vertical-align: middle;\n",
              "    }\n",
              "\n",
              "    .dataframe tbody tr th {\n",
              "        vertical-align: top;\n",
              "    }\n",
              "\n",
              "    .dataframe thead th {\n",
              "        text-align: right;\n",
              "    }\n",
              "</style>\n",
              "<table border=\"1\" class=\"dataframe\">\n",
              "  <thead>\n",
              "    <tr style=\"text-align: right;\">\n",
              "      <th></th>\n",
              "      <th>product</th>\n",
              "      <th>consumer_complaint_narrative</th>\n",
              "    </tr>\n",
              "  </thead>\n",
              "  <tbody>\n",
              "    <tr>\n",
              "      <th>584</th>\n",
              "      <td>Debt collection</td>\n",
              "      <td>We received a phone call on Tuesday XX/XX/XXXX...</td>\n",
              "    </tr>\n",
              "    <tr>\n",
              "      <th>649</th>\n",
              "      <td>Credit reporting, credit repair services, or o...</td>\n",
              "      <td>Experian informed me that the United State Ban...</td>\n",
              "    </tr>\n",
              "    <tr>\n",
              "      <th>659</th>\n",
              "      <td>Credit reporting, credit repair services, or o...</td>\n",
              "      <td>XXXX   informed me that the United State Bankr...</td>\n",
              "    </tr>\n",
              "    <tr>\n",
              "      <th>688</th>\n",
              "      <td>Credit reporting, credit repair services, or o...</td>\n",
              "      <td>Experian didn't properly identify my disputed ...</td>\n",
              "    </tr>\n",
              "    <tr>\n",
              "      <th>690</th>\n",
              "      <td>Credit reporting, credit repair services, or o...</td>\n",
              "      <td>I am writing to dispute a fraudulent charge on...</td>\n",
              "    </tr>\n",
              "  </tbody>\n",
              "</table>\n",
              "</div>"
            ],
            "text/plain": [
              "                                               product  \\\n",
              "584                                    Debt collection   \n",
              "649  Credit reporting, credit repair services, or o...   \n",
              "659  Credit reporting, credit repair services, or o...   \n",
              "688  Credit reporting, credit repair services, or o...   \n",
              "690  Credit reporting, credit repair services, or o...   \n",
              "\n",
              "                          consumer_complaint_narrative  \n",
              "584  We received a phone call on Tuesday XX/XX/XXXX...  \n",
              "649  Experian informed me that the United State Ban...  \n",
              "659  XXXX   informed me that the United State Bankr...  \n",
              "688  Experian didn't properly identify my disputed ...  \n",
              "690  I am writing to dispute a fraudulent charge on...  "
            ]
          },
          "metadata": {
            "tags": []
          },
          "execution_count": 1
        }
      ]
    },
    {
      "metadata": {
        "id": "KyNwbA8zflMo",
        "colab_type": "code",
        "outputId": "ef8e197f-0cbc-4ff9-f04e-46aa6907fb5e",
        "colab": {
          "base_uri": "https://localhost:8080/",
          "height": 34
        }
      },
      "cell_type": "code",
      "source": [
        "import os\n",
        "import numpy as np\n",
        "import pandas as pd\n",
        "import tensorflow as tf\n",
        "import tensorflow_hub as hub\n",
        "import json\n",
        "import pickle\n",
        "import urllib\n",
        "\n",
        "from sklearn.preprocessing import LabelBinarizer\n",
        "\n",
        "print(tf.__version__)"
      ],
      "execution_count": 2,
      "outputs": [
        {
          "output_type": "stream",
          "text": [
            "1.10.0\n"
          ],
          "name": "stdout"
        }
      ]
    },
    {
      "metadata": {
        "id": "bU1dy3fcflMr",
        "colab_type": "code",
        "outputId": "e6c6a9c2-a245-48da-99ac-00bce227d9a0",
        "colab": {
          "base_uri": "https://localhost:8080/",
          "height": 680
        }
      },
      "cell_type": "code",
      "source": [
        "pd.set_option('max_colwidth', 500)\n",
        "data['consumer_complaint_narrative'] = data['consumer_complaint_narrative'].str.lower()\n",
        "data.head()"
      ],
      "execution_count": 3,
      "outputs": [
        {
          "output_type": "execute_result",
          "data": {
            "text/html": [
              "<div>\n",
              "<style scoped>\n",
              "    .dataframe tbody tr th:only-of-type {\n",
              "        vertical-align: middle;\n",
              "    }\n",
              "\n",
              "    .dataframe tbody tr th {\n",
              "        vertical-align: top;\n",
              "    }\n",
              "\n",
              "    .dataframe thead th {\n",
              "        text-align: right;\n",
              "    }\n",
              "</style>\n",
              "<table border=\"1\" class=\"dataframe\">\n",
              "  <thead>\n",
              "    <tr style=\"text-align: right;\">\n",
              "      <th></th>\n",
              "      <th>product</th>\n",
              "      <th>consumer_complaint_narrative</th>\n",
              "    </tr>\n",
              "  </thead>\n",
              "  <tbody>\n",
              "    <tr>\n",
              "      <th>584</th>\n",
              "      <td>Debt collection</td>\n",
              "      <td>we received a phone call on tuesday xx/xx/xxxx from xxxx xxxx xxxx   demanding that we call them back about an alleged balance of {$190.00} at the xxxx xxxx xxxx. thursday xx/xx/xxxx we received a written notice in the mail. \\n\\nhowever, this alleged billing of {$190.00} was disputed in writing every month -- and the lawyer helping us sent 2 letters, most recently on xx/xx/2019, also by email. \\n\\nwe have proof that the - xxxx xxxx xxxx has no right to pursue any collection actions on us, be...</td>\n",
              "    </tr>\n",
              "    <tr>\n",
              "      <th>649</th>\n",
              "      <td>Credit reporting, credit repair services, or other personal consumer reports</td>\n",
              "      <td>experian informed me that the united state bankruptcy court provided them an/or reported my information to them in which i wrote the court to find out there procedure for verifying record with the credit reporting agencies. experian still states that its been reported through xxxx xxxx or what they call a third party. please look into this matter and not over this matter. have a blessed day and thank you in advance for your time.</td>\n",
              "    </tr>\n",
              "    <tr>\n",
              "      <th>659</th>\n",
              "      <td>Credit reporting, credit repair services, or other personal consumer reports</td>\n",
              "      <td>xxxx   informed me that the united state bankruptcy court provided them an/or reported my information to them in which i wrote the court to find out there procedure for verifying record with the credit reporting agencies. xxxx  still states that its been reported through xxxx xxxx  or what they call a third party. please look into this matter and not over this matter. have a blessed day and thank you in advance for your time.</td>\n",
              "    </tr>\n",
              "    <tr>\n",
              "      <th>688</th>\n",
              "      <td>Credit reporting, credit repair services, or other personal consumer reports</td>\n",
              "      <td>experian didn't properly identify my disputed update. for account name xxxx   xxxx account number xxxx account type credit card i'm requesting proof of liability to this account that is on my credit report and i was only sent an update to the claiming it's mine. under sec. 602. congressional findings and statement of purpose ( a ) accuracy and fairness of credit reporting. the congress makes the following findings : ( 1 ) the banking system is dependent upon fair and accurate credit reportin...</td>\n",
              "    </tr>\n",
              "    <tr>\n",
              "      <th>690</th>\n",
              "      <td>Credit reporting, credit repair services, or other personal consumer reports</td>\n",
              "      <td>i am writing to dispute a fraudulent charge on my account of {$25000.00} i am a victim of identity theft, and i did not make or authorize this charge. i am requesting that the charge be removed, that any finance other charges related to the fraudulent amount be credited, as well and that i receive an accurate statement. this request is made pursuant to the fair credit billing acts amendments to the truth in lending act, 15 u.s.c. 1666-1666b, 12 c.f.r 226.13. see also 12 c.f.r 226.12 ( b ) 1....</td>\n",
              "    </tr>\n",
              "  </tbody>\n",
              "</table>\n",
              "</div>"
            ],
            "text/plain": [
              "                                                                          product  \\\n",
              "584                                                               Debt collection   \n",
              "649  Credit reporting, credit repair services, or other personal consumer reports   \n",
              "659  Credit reporting, credit repair services, or other personal consumer reports   \n",
              "688  Credit reporting, credit repair services, or other personal consumer reports   \n",
              "690  Credit reporting, credit repair services, or other personal consumer reports   \n",
              "\n",
              "                                                                                                                                                                                                                                                                                                                                                                                                                                                                                            consumer_complaint_narrative  \n",
              "584  we received a phone call on tuesday xx/xx/xxxx from xxxx xxxx xxxx   demanding that we call them back about an alleged balance of {$190.00} at the xxxx xxxx xxxx. thursday xx/xx/xxxx we received a written notice in the mail. \\n\\nhowever, this alleged billing of {$190.00} was disputed in writing every month -- and the lawyer helping us sent 2 letters, most recently on xx/xx/2019, also by email. \\n\\nwe have proof that the - xxxx xxxx xxxx has no right to pursue any collection actions on us, be...  \n",
              "649                                                                    experian informed me that the united state bankruptcy court provided them an/or reported my information to them in which i wrote the court to find out there procedure for verifying record with the credit reporting agencies. experian still states that its been reported through xxxx xxxx or what they call a third party. please look into this matter and not over this matter. have a blessed day and thank you in advance for your time.  \n",
              "659                                                                        xxxx   informed me that the united state bankruptcy court provided them an/or reported my information to them in which i wrote the court to find out there procedure for verifying record with the credit reporting agencies. xxxx  still states that its been reported through xxxx xxxx  or what they call a third party. please look into this matter and not over this matter. have a blessed day and thank you in advance for your time.  \n",
              "688  experian didn't properly identify my disputed update. for account name xxxx   xxxx account number xxxx account type credit card i'm requesting proof of liability to this account that is on my credit report and i was only sent an update to the claiming it's mine. under sec. 602. congressional findings and statement of purpose ( a ) accuracy and fairness of credit reporting. the congress makes the following findings : ( 1 ) the banking system is dependent upon fair and accurate credit reportin...  \n",
              "690  i am writing to dispute a fraudulent charge on my account of {$25000.00} i am a victim of identity theft, and i did not make or authorize this charge. i am requesting that the charge be removed, that any finance other charges related to the fraudulent amount be credited, as well and that i receive an accurate statement. this request is made pursuant to the fair credit billing acts amendments to the truth in lending act, 15 u.s.c. 1666-1666b, 12 c.f.r 226.13. see also 12 c.f.r 226.12 ( b ) 1....  "
            ]
          },
          "metadata": {
            "tags": []
          },
          "execution_count": 3
        }
      ]
    },
    {
      "metadata": {
        "id": "YDcfUBfXflMu",
        "colab_type": "code",
        "outputId": "7679abce-63cb-4156-af29-5a4e684622a1",
        "colab": {
          "base_uri": "https://localhost:8080/",
          "height": 680
        }
      },
      "cell_type": "code",
      "source": [
        "\n",
        "import re\n",
        "data['consumer_complaint_narrative'] = data['consumer_complaint_narrative'].str.replace('x', '')\n",
        "data['consumer_complaint_narrative'] = data['consumer_complaint_narrative'].str.replace('{', '')\n",
        "data['consumer_complaint_narrative'] = data['consumer_complaint_narrative'].str.replace('}', '')\n",
        "data['consumer_complaint_narrative'] = data['consumer_complaint_narrative'].str.replace('/', '')\n",
        "data.head()"
      ],
      "execution_count": 4,
      "outputs": [
        {
          "output_type": "execute_result",
          "data": {
            "text/html": [
              "<div>\n",
              "<style scoped>\n",
              "    .dataframe tbody tr th:only-of-type {\n",
              "        vertical-align: middle;\n",
              "    }\n",
              "\n",
              "    .dataframe tbody tr th {\n",
              "        vertical-align: top;\n",
              "    }\n",
              "\n",
              "    .dataframe thead th {\n",
              "        text-align: right;\n",
              "    }\n",
              "</style>\n",
              "<table border=\"1\" class=\"dataframe\">\n",
              "  <thead>\n",
              "    <tr style=\"text-align: right;\">\n",
              "      <th></th>\n",
              "      <th>product</th>\n",
              "      <th>consumer_complaint_narrative</th>\n",
              "    </tr>\n",
              "  </thead>\n",
              "  <tbody>\n",
              "    <tr>\n",
              "      <th>584</th>\n",
              "      <td>Debt collection</td>\n",
              "      <td>we received a phone call on tuesday  from      demanding that we call them back about an alleged balance of $190.00 at the   . thursday  we received a written notice in the mail. \\n\\nhowever, this alleged billing of $190.00 was disputed in writing every month -- and the lawyer helping us sent 2 letters, most recently on 2019, also by email. \\n\\nwe have proof that the -    has no right to pursue any collection actions on us, because of a very long and well -documented billing dispute with    ...</td>\n",
              "    </tr>\n",
              "    <tr>\n",
              "      <th>649</th>\n",
              "      <td>Credit reporting, credit repair services, or other personal consumer reports</td>\n",
              "      <td>eperian informed me that the united state bankruptcy court provided them anor reported my information to them in which i wrote the court to find out there procedure for verifying record with the credit reporting agencies. eperian still states that its been reported through   or what they call a third party. please look into this matter and not over this matter. have a blessed day and thank you in advance for your time.</td>\n",
              "    </tr>\n",
              "    <tr>\n",
              "      <th>659</th>\n",
              "      <td>Credit reporting, credit repair services, or other personal consumer reports</td>\n",
              "      <td>informed me that the united state bankruptcy court provided them anor reported my information to them in which i wrote the court to find out there procedure for verifying record with the credit reporting agencies.   still states that its been reported through    or what they call a third party. please look into this matter and not over this matter. have a blessed day and thank you in advance for your time.</td>\n",
              "    </tr>\n",
              "    <tr>\n",
              "      <th>688</th>\n",
              "      <td>Credit reporting, credit repair services, or other personal consumer reports</td>\n",
              "      <td>eperian didn't properly identify my disputed update. for account name     account number  account type credit card i'm requesting proof of liability to this account that is on my credit report and i was only sent an update to the claiming it's mine. under sec. 602. congressional findings and statement of purpose ( a ) accuracy and fairness of credit reporting. the congress makes the following findings : ( 1 ) the banking system is dependent upon fair and accurate credit reporting. inaccurate...</td>\n",
              "    </tr>\n",
              "    <tr>\n",
              "      <th>690</th>\n",
              "      <td>Credit reporting, credit repair services, or other personal consumer reports</td>\n",
              "      <td>i am writing to dispute a fraudulent charge on my account of $25000.00 i am a victim of identity theft, and i did not make or authorize this charge. i am requesting that the charge be removed, that any finance other charges related to the fraudulent amount be credited, as well and that i receive an accurate statement. this request is made pursuant to the fair credit billing acts amendments to the truth in lending act, 15 u.s.c. 1666-1666b, 12 c.f.r 226.13. see also 12 c.f.r 226.12 ( b ) 1.  ...</td>\n",
              "    </tr>\n",
              "  </tbody>\n",
              "</table>\n",
              "</div>"
            ],
            "text/plain": [
              "                                                                          product  \\\n",
              "584                                                               Debt collection   \n",
              "649  Credit reporting, credit repair services, or other personal consumer reports   \n",
              "659  Credit reporting, credit repair services, or other personal consumer reports   \n",
              "688  Credit reporting, credit repair services, or other personal consumer reports   \n",
              "690  Credit reporting, credit repair services, or other personal consumer reports   \n",
              "\n",
              "                                                                                                                                                                                                                                                                                                                                                                                                                                                                                            consumer_complaint_narrative  \n",
              "584  we received a phone call on tuesday  from      demanding that we call them back about an alleged balance of $190.00 at the   . thursday  we received a written notice in the mail. \\n\\nhowever, this alleged billing of $190.00 was disputed in writing every month -- and the lawyer helping us sent 2 letters, most recently on 2019, also by email. \\n\\nwe have proof that the -    has no right to pursue any collection actions on us, because of a very long and well -documented billing dispute with    ...  \n",
              "649                                                                               eperian informed me that the united state bankruptcy court provided them anor reported my information to them in which i wrote the court to find out there procedure for verifying record with the credit reporting agencies. eperian still states that its been reported through   or what they call a third party. please look into this matter and not over this matter. have a blessed day and thank you in advance for your time.  \n",
              "659                                                                                            informed me that the united state bankruptcy court provided them anor reported my information to them in which i wrote the court to find out there procedure for verifying record with the credit reporting agencies.   still states that its been reported through    or what they call a third party. please look into this matter and not over this matter. have a blessed day and thank you in advance for your time.  \n",
              "688  eperian didn't properly identify my disputed update. for account name     account number  account type credit card i'm requesting proof of liability to this account that is on my credit report and i was only sent an update to the claiming it's mine. under sec. 602. congressional findings and statement of purpose ( a ) accuracy and fairness of credit reporting. the congress makes the following findings : ( 1 ) the banking system is dependent upon fair and accurate credit reporting. inaccurate...  \n",
              "690  i am writing to dispute a fraudulent charge on my account of $25000.00 i am a victim of identity theft, and i did not make or authorize this charge. i am requesting that the charge be removed, that any finance other charges related to the fraudulent amount be credited, as well and that i receive an accurate statement. this request is made pursuant to the fair credit billing acts amendments to the truth in lending act, 15 u.s.c. 1666-1666b, 12 c.f.r 226.13. see also 12 c.f.r 226.12 ( b ) 1.  ...  "
            ]
          },
          "metadata": {
            "tags": []
          },
          "execution_count": 4
        }
      ]
    },
    {
      "metadata": {
        "id": "aOZeJ9nXflMy",
        "colab_type": "code",
        "outputId": "8e41fc5e-057e-44cf-a744-5d18f0a1fc4c",
        "colab": {
          "base_uri": "https://localhost:8080/",
          "height": 136
        }
      },
      "cell_type": "code",
      "source": [
        "data.dropna(inplace=True)\n",
        "data.info()"
      ],
      "execution_count": 5,
      "outputs": [
        {
          "output_type": "stream",
          "text": [
            "<class 'pandas.core.frame.DataFrame'>\n",
            "Int64Index: 51924 entries, 584 to 133236\n",
            "Data columns (total 2 columns):\n",
            "product                         51924 non-null object\n",
            "consumer_complaint_narrative    51924 non-null object\n",
            "dtypes: object(2)\n",
            "memory usage: 1.2+ MB\n"
          ],
          "name": "stdout"
        }
      ]
    },
    {
      "metadata": {
        "id": "lmFzmuS3flM0",
        "colab_type": "code",
        "colab": {}
      },
      "cell_type": "code",
      "source": [
        "data_comp=data[['consumer_complaint_narrative']]\n",
        "data_prod=data[['product']]"
      ],
      "execution_count": 0,
      "outputs": []
    },
    {
      "metadata": {
        "id": "u06MeRRYflM3",
        "colab_type": "code",
        "colab": {}
      },
      "cell_type": "code",
      "source": [
        "train_size = int(len(data_comp) * .999)\n",
        "\n",
        "train_descriptions = data_comp[:train_size].astype('str')\n",
        "train_prod = data_prod[:train_size]\n",
        "\n",
        "test_descriptions = data_comp[train_size:].astype('str')\n",
        "test_prod =data_prod[train_size:]"
      ],
      "execution_count": 0,
      "outputs": []
    },
    {
      "metadata": {
        "id": "54vUj0ndflM6",
        "colab_type": "code",
        "outputId": "2d540baf-16e8-4942-b049-13ea9dc22068",
        "colab": {
          "base_uri": "https://localhost:8080/",
          "height": 51
        }
      },
      "cell_type": "code",
      "source": [
        "print(train_descriptions.shape)\n",
        "print(test_descriptions.shape)"
      ],
      "execution_count": 8,
      "outputs": [
        {
          "output_type": "stream",
          "text": [
            "(51872, 1)\n",
            "(52, 1)\n"
          ],
          "name": "stdout"
        }
      ]
    },
    {
      "metadata": {
        "id": "DtPx89r2flM9",
        "colab_type": "code",
        "colab": {}
      },
      "cell_type": "code",
      "source": [
        "train_size = int(len(train_descriptions) * .8)\n",
        "\n",
        "train_desc = train_descriptions[:train_size]\n",
        "train_pr = train_prod[:train_size]\n",
        "\n",
        "val_desc = train_descriptions[train_size:]\n",
        "val_pr =train_prod[train_size:]"
      ],
      "execution_count": 0,
      "outputs": []
    },
    {
      "metadata": {
        "id": "VnHkmKq_flNA",
        "colab_type": "code",
        "outputId": "b11e1fea-093b-4a80-d47c-f0179d0d2994",
        "colab": {
          "base_uri": "https://localhost:8080/",
          "height": 51
        }
      },
      "cell_type": "code",
      "source": [
        "print(train_desc.shape)\n",
        "print(val_desc.shape)"
      ],
      "execution_count": 10,
      "outputs": [
        {
          "output_type": "stream",
          "text": [
            "(41497, 1)\n",
            "(10375, 1)\n"
          ],
          "name": "stdout"
        }
      ]
    },
    {
      "metadata": {
        "id": "iYwVowWaflND",
        "colab_type": "code",
        "outputId": "ad0f0701-327f-4729-b20c-2a9cfbc8e636",
        "colab": {
          "base_uri": "https://localhost:8080/",
          "height": 51
        }
      },
      "cell_type": "code",
      "source": [
        "print(train_pr.shape)\n",
        "print(val_pr.shape)"
      ],
      "execution_count": 11,
      "outputs": [
        {
          "output_type": "stream",
          "text": [
            "(41497, 1)\n",
            "(10375, 1)\n"
          ],
          "name": "stdout"
        }
      ]
    },
    {
      "metadata": {
        "id": "QbbGDXvkflNI",
        "colab_type": "code",
        "outputId": "cda4db26-c7a8-414e-972f-348b04915d4f",
        "colab": {
          "base_uri": "https://localhost:8080/",
          "height": 255
        }
      },
      "cell_type": "code",
      "source": [
        "print(train_desc.info())\n",
        "print(val_desc.info())"
      ],
      "execution_count": 12,
      "outputs": [
        {
          "output_type": "stream",
          "text": [
            "<class 'pandas.core.frame.DataFrame'>\n",
            "Int64Index: 41497 entries, 584 to 110385\n",
            "Data columns (total 1 columns):\n",
            "consumer_complaint_narrative    41497 non-null object\n",
            "dtypes: object(1)\n",
            "memory usage: 648.4+ KB\n",
            "None\n",
            "<class 'pandas.core.frame.DataFrame'>\n",
            "Int64Index: 10375 entries, 110390 to 132906\n",
            "Data columns (total 1 columns):\n",
            "consumer_complaint_narrative    10375 non-null object\n",
            "dtypes: object(1)\n",
            "memory usage: 162.1+ KB\n",
            "None\n"
          ],
          "name": "stdout"
        }
      ]
    },
    {
      "metadata": {
        "id": "vqKGK4KaflNM",
        "colab_type": "code",
        "outputId": "844b7ccc-db7b-49bc-d940-3558d24af7a8",
        "colab": {
          "base_uri": "https://localhost:8080/",
          "height": 119
        }
      },
      "cell_type": "code",
      "source": [
        "from sklearn import preprocessing\n",
        "encoder = preprocessing.LabelBinarizer()\n",
        "encoder.fit_transform(train_pr)\n",
        "train_encoded = encoder.transform(train_pr)\n",
        "val_encoded = encoder.transform(val_pr)\n",
        "num_classes = len(encoder.classes_)\n",
        "\n",
        "# Print all possible products and the label for the first complaint in our training dataset\n",
        "print(encoder.classes_)\n",
        "print(train_encoded[0])"
      ],
      "execution_count": 13,
      "outputs": [
        {
          "output_type": "stream",
          "text": [
            "['Checking or savings account' 'Credit card or prepaid card'\n",
            " 'Credit reporting, credit repair services, or other personal consumer reports'\n",
            " 'Debt collection' 'Money transfer, virtual currency, or money service'\n",
            " 'Mortgage' 'Payday loan, title loan, or personal loan' 'Student loan'\n",
            " 'Vehicle loan or lease']\n",
            "[0 0 0 1 0 0 0 0 0]\n"
          ],
          "name": "stdout"
        }
      ]
    },
    {
      "metadata": {
        "id": "gdBsKAphflNR",
        "colab_type": "code",
        "outputId": "1cb6b2ac-7b10-45db-cb66-d736368cdd1d",
        "colab": {
          "base_uri": "https://localhost:8080/",
          "height": 34
        }
      },
      "cell_type": "code",
      "source": [
        "description_embeddings = hub.text_embedding_column(\"descriptions\", module_spec=\"https://tfhub.dev/google/universal-sentence-encoder-large/3\", trainable=False)"
      ],
      "execution_count": 14,
      "outputs": [
        {
          "output_type": "stream",
          "text": [
            "INFO:tensorflow:Using /tmp/tfhub_modules to cache modules.\n"
          ],
          "name": "stdout"
        }
      ]
    },
    {
      "metadata": {
        "id": "LGcDrfmYflNU",
        "colab_type": "code",
        "colab": {}
      },
      "cell_type": "code",
      "source": [
        "multi_label_head = tf.contrib.estimator.multi_label_head(\n",
        "    num_classes,\n",
        "    loss_reduction=tf.losses.Reduction.SUM_OVER_BATCH_SIZE\n",
        ")"
      ],
      "execution_count": 0,
      "outputs": []
    },
    {
      "metadata": {
        "id": "1WWoR0guflNW",
        "colab_type": "code",
        "outputId": "f088b4b4-cfd7-4245-c814-2ef168572c38",
        "colab": {
          "base_uri": "https://localhost:8080/",
          "height": 88
        }
      },
      "cell_type": "code",
      "source": [
        "features = {\n",
        "  \"descriptions\": np.array(train_desc).astype(np.str)\n",
        "}\n",
        "labels = np.array(train_encoded).astype(np.int32)\n",
        "train_input_fn = tf.estimator.inputs.numpy_input_fn(features, labels, shuffle=True, batch_size=100, num_epochs=10)\n",
        "estimator = tf.contrib.estimator.DNNEstimator(\n",
        "    head=multi_label_head,\n",
        "    hidden_units=[64,10],\n",
        "    feature_columns=[description_embeddings])"
      ],
      "execution_count": 16,
      "outputs": [
        {
          "output_type": "stream",
          "text": [
            "INFO:tensorflow:Using default config.\n",
            "WARNING:tensorflow:Using temporary folder as model directory: /tmp/tmp_dddiu86\n",
            "INFO:tensorflow:Using config: {'_model_dir': '/tmp/tmp_dddiu86', '_tf_random_seed': None, '_save_summary_steps': 100, '_save_checkpoints_steps': None, '_save_checkpoints_secs': 600, '_session_config': None, '_keep_checkpoint_max': 5, '_keep_checkpoint_every_n_hours': 10000, '_log_step_count_steps': 100, '_train_distribute': None, '_device_fn': None, '_service': None, '_cluster_spec': <tensorflow.python.training.server_lib.ClusterSpec object at 0x7f9c75da0278>, '_task_type': 'worker', '_task_id': 0, '_global_id_in_cluster': 0, '_master': '', '_evaluation_master': '', '_is_chief': True, '_num_ps_replicas': 0, '_num_worker_replicas': 1}\n"
          ],
          "name": "stdout"
        }
      ]
    },
    {
      "metadata": {
        "id": "Bm2dzVHcflNc",
        "colab_type": "code",
        "outputId": "62bbe1dc-2bd6-4128-ed9f-8970e8b33797",
        "colab": {
          "base_uri": "https://localhost:8080/",
          "height": 459
        }
      },
      "cell_type": "code",
      "source": [
        "%%timeit\n",
        "estimator.train(input_fn=train_input_fn)"
      ],
      "execution_count": 0,
      "outputs": [
        {
          "output_type": "stream",
          "text": [
            "INFO:tensorflow:Calling model_fn.\n",
            "INFO:tensorflow:Saver not created because there are no variables in the graph to restore\n",
            "INFO:tensorflow:Saver not created because there are no variables in the graph to restore\n",
            "INFO:tensorflow:Done calling model_fn.\n",
            "INFO:tensorflow:Create CheckpointSaverHook.\n",
            "INFO:tensorflow:Graph was finalized.\n",
            "INFO:tensorflow:Running local_init_op.\n",
            "INFO:tensorflow:Done running local_init_op.\n",
            "INFO:tensorflow:Saving checkpoints for 0 into /tmp/tmp_dddiu86/model.ckpt.\n",
            "INFO:tensorflow:loss = 0.6974955, step = 1\n",
            "INFO:tensorflow:Saving checkpoints for 31 into /tmp/tmp_dddiu86/model.ckpt.\n",
            "INFO:tensorflow:Saving checkpoints for 62 into /tmp/tmp_dddiu86/model.ckpt.\n",
            "INFO:tensorflow:Saving checkpoints for 93 into /tmp/tmp_dddiu86/model.ckpt.\n",
            "INFO:tensorflow:global_step/sec: 0.0511202\n",
            "INFO:tensorflow:loss = 0.29817793, step = 101 (1956.180 sec)\n",
            "INFO:tensorflow:Saving checkpoints for 124 into /tmp/tmp_dddiu86/model.ckpt.\n",
            "INFO:tensorflow:Saving checkpoints for 155 into /tmp/tmp_dddiu86/model.ckpt.\n",
            "INFO:tensorflow:Saving checkpoints for 187 into /tmp/tmp_dddiu86/model.ckpt.\n",
            "INFO:tensorflow:global_step/sec: 0.0518582\n",
            "INFO:tensorflow:loss = 0.26040265, step = 201 (1928.334 sec)\n",
            "INFO:tensorflow:Saving checkpoints for 219 into /tmp/tmp_dddiu86/model.ckpt.\n",
            "INFO:tensorflow:Saving checkpoints for 251 into /tmp/tmp_dddiu86/model.ckpt.\n",
            "INFO:tensorflow:Saving checkpoints for 283 into /tmp/tmp_dddiu86/model.ckpt.\n",
            "INFO:tensorflow:global_step/sec: 0.0521629\n",
            "INFO:tensorflow:loss = 0.28411603, step = 301 (1917.070 sec)\n",
            "INFO:tensorflow:Saving checkpoints for 315 into /tmp/tmp_dddiu86/model.ckpt.\n"
          ],
          "name": "stdout"
        }
      ]
    },
    {
      "metadata": {
        "id": "063CzTrmflNg",
        "colab_type": "code",
        "colab": {}
      },
      "cell_type": "code",
      "source": [
        " "
      ],
      "execution_count": 0,
      "outputs": []
    }
  ]
}